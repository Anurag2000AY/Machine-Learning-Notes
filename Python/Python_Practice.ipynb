{
 "cells": [
  {
   "cell_type": "code",
   "execution_count": 46,
   "id": "8da6e77d",
   "metadata": {},
   "outputs": [],
   "source": [
    "import datetime"
   ]
  },
  {
   "cell_type": "code",
   "execution_count": 47,
   "id": "863cc2d8",
   "metadata": {},
   "outputs": [
    {
     "data": {
      "text/plain": [
       "datetime.datetime(2022, 6, 19, 16, 29, 45, 986257)"
      ]
     },
     "execution_count": 47,
     "metadata": {},
     "output_type": "execute_result"
    }
   ],
   "source": [
    "now=datetime.datetime.now()\n",
    "now"
   ]
  },
  {
   "cell_type": "code",
   "execution_count": 48,
   "id": "d5cd6556",
   "metadata": {},
   "outputs": [
    {
     "data": {
      "text/plain": [
       "datetime.datetime(2022, 12, 5, 0, 0)"
      ]
     },
     "execution_count": 48,
     "metadata": {},
     "output_type": "execute_result"
    }
   ],
   "source": [
    "birthday= datetime.datetime(2022,12,5)\n",
    "birthday"
   ]
  },
  {
   "cell_type": "code",
   "execution_count": 49,
   "id": "1bd5e0f5",
   "metadata": {},
   "outputs": [
    {
     "data": {
      "text/plain": [
       "datetime.timedelta(days=-169, seconds=59385, microseconds=986257)"
      ]
     },
     "execution_count": 49,
     "metadata": {},
     "output_type": "execute_result"
    }
   ],
   "source": [
    "time_till=now-birthday\n",
    "time_till"
   ]
  },
  {
   "cell_type": "code",
   "execution_count": 50,
   "id": "407b95e7",
   "metadata": {},
   "outputs": [],
   "source": [
    "total_sec =time_till.seconds"
   ]
  },
  {
   "cell_type": "code",
   "execution_count": 51,
   "id": "f325943e",
   "metadata": {},
   "outputs": [
    {
     "data": {
      "text/plain": [
       "16.495833333333334"
      ]
     },
     "execution_count": 51,
     "metadata": {},
     "output_type": "execute_result"
    }
   ],
   "source": [
    "total_hour= total_sec/3600\n",
    "total_hour"
   ]
  },
  {
   "cell_type": "code",
   "execution_count": 55,
   "id": "6186d51e",
   "metadata": {},
   "outputs": [
    {
     "data": {
      "text/plain": [
       "-169"
      ]
     },
     "execution_count": 55,
     "metadata": {},
     "output_type": "execute_result"
    }
   ],
   "source": [
    "total_days= time_till.days\n",
    "total_days"
   ]
  },
  {
   "cell_type": "code",
   "execution_count": 52,
   "id": "8a46b600",
   "metadata": {},
   "outputs": [
    {
     "data": {
      "text/plain": [
       "16"
      ]
     },
     "execution_count": 52,
     "metadata": {},
     "output_type": "execute_result"
    }
   ],
   "source": [
    "round(total_hour)"
   ]
  },
  {
   "cell_type": "code",
   "execution_count": 68,
   "id": "57d2ecc7",
   "metadata": {},
   "outputs": [
    {
     "data": {
      "text/plain": [
       "30"
      ]
     },
     "execution_count": 68,
     "metadata": {},
     "output_type": "execute_result"
    }
   ],
   "source": [
    "total_sec=(total_hour- round(total_hour))*60\n",
    "round(total_sec)"
   ]
  },
  {
   "cell_type": "code",
   "execution_count": 71,
   "id": "4f7d007f",
   "metadata": {},
   "outputs": [
    {
     "name": "stdout",
     "output_type": "stream",
     "text": [
      "3\n",
      "PythonApplications\n",
      "3\n",
      "2\n"
     ]
    }
   ],
   "source": [
    "class A: \n",
    "    \n",
    " def __init__(self, a): \n",
    "     self.a = a \n",
    " \n",
    " def __sub__(self, o):\n",
    "     return self.a + o.a\n",
    " def __mul__(self, o):\n",
    "     return self.a * o.a\n",
    " def __add__(self, o): \n",
    "     return self.a + o.a\n",
    " \n",
    "ob1 = A(1) \n",
    "ob2 = A(2) \n",
    "ob3 = A(\"Python\") \n",
    "ob4 = A(\"Applications\") \n",
    " \n",
    "print(ob1 + ob2)\n",
    "print(ob3 + ob4)\n",
    "print(ob1 - ob2) \n",
    "print(ob1 * ob2)\n",
    " "
   ]
  },
  {
   "cell_type": "code",
   "execution_count": null,
   "id": "76a0fd2b",
   "metadata": {},
   "outputs": [],
   "source": []
  },
  {
   "cell_type": "code",
   "execution_count": null,
   "id": "637d18d5",
   "metadata": {},
   "outputs": [],
   "source": []
  }
 ],
 "metadata": {
  "kernelspec": {
   "display_name": "Python 3 (ipykernel)",
   "language": "python",
   "name": "python3"
  },
  "language_info": {
   "codemirror_mode": {
    "name": "ipython",
    "version": 3
   },
   "file_extension": ".py",
   "mimetype": "text/x-python",
   "name": "python",
   "nbconvert_exporter": "python",
   "pygments_lexer": "ipython3",
   "version": "3.9.12"
  }
 },
 "nbformat": 4,
 "nbformat_minor": 5
}
